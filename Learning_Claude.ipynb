{
 "cells": [
  {
   "cell_type": "code",
   "execution_count": 1,
   "metadata": {},
   "outputs": [
    {
     "data": {
      "text/plain": [
       "True"
      ]
     },
     "execution_count": 1,
     "metadata": {},
     "output_type": "execute_result"
    }
   ],
   "source": [
    "from dotenv import load_dotenv \n",
    "import os \n",
    "load_dotenv()"
   ]
  },
  {
   "cell_type": "code",
   "execution_count": 2,
   "metadata": {},
   "outputs": [],
   "source": [
    "import anthropic\n",
    "client = anthropic.Anthropic()\n"
   ]
  },
  {
   "cell_type": "code",
   "execution_count": 3,
   "metadata": {},
   "outputs": [
    {
     "name": "stdout",
     "output_type": "stream",
     "text": [
      "1. \"Unleashing the Power of Generative AI: How It's Revolutionizing Industries\"\n",
      "\n",
      "2. \"Generative AI: The Future of Content Creation and Innovation\"\n",
      "\n",
      "3. \"From Art to Code: Exploring the Versatile Applications of Generative AI\"\n",
      "\n",
      "4. \"Generative AI vs. Traditional Methods: Which Yields Better Results?\"\n",
      "\n",
      "5. \"The Ethics of Generative AI: Balancing Creativity and Responsibility\"\n"
     ]
    }
   ],
   "source": [
    "response = client.messages.create(\n",
    "    model=\"claude-3-opus-20240229\",\n",
    "     max_tokens=1024,\n",
    "    system=\"Generate 5 attention-grabbing blog titles based on user-provived keywords\",\n",
    "    messages=[{\"role\":\"user\", \"content\":\"Generative AI\"}],\n",
    "    )\n",
    "\n",
    "print(response.content[0].text)"
   ]
  },
  {
   "cell_type": "code",
   "execution_count": 4,
   "metadata": {},
   "outputs": [],
   "source": [
    "def fetch_anthropic_response(user_input):\n",
    "    response = client.messages.create(\n",
    "        model=\"claude-3-opus-20240229\",\n",
    "        max_tokens=1024,\n",
    "        system=\"You are a helpful assistant.\",\n",
    "        messages=[{\"role\":\"user\", \"content\":user_input}],\n",
    "        )\n",
    "    return response.content[0].text\n"
   ]
  },
  {
   "cell_type": "code",
   "execution_count": 7,
   "metadata": {},
   "outputs": [
    {
     "data": {
      "text/plain": [
       "'The answer to the mathematical equation 4 + 4 is 8. \\n\\nWhen you add two numbers together, you are combining their values to get a sum. In this case, when you add 4 and 4, you are essentially counting 4 twice:\\n\\n4 + 4 = (1 + 1 + 1 + 1) + (1 + 1 + 1 + 1) = 1 + 1 + 1 + 1 + 1 + 1 + 1 + 1 = 8\\n\\nSo, 4 plus 4 equals 8.'"
      ]
     },
     "execution_count": 7,
     "metadata": {},
     "output_type": "execute_result"
    }
   ],
   "source": [
    "user_input = \"What is 4+4?\"\n",
    "fetch_anthropic_response(user_input)"
   ]
  },
  {
   "cell_type": "code",
   "execution_count": null,
   "metadata": {},
   "outputs": [],
   "source": []
  }
 ],
 "metadata": {
  "kernelspec": {
   "display_name": "ev",
   "language": "python",
   "name": "python3"
  },
  "language_info": {
   "codemirror_mode": {
    "name": "ipython",
    "version": 3
   },
   "file_extension": ".py",
   "mimetype": "text/x-python",
   "name": "python",
   "nbconvert_exporter": "python",
   "pygments_lexer": "ipython3",
   "version": "3.9.10"
  }
 },
 "nbformat": 4,
 "nbformat_minor": 2
}
